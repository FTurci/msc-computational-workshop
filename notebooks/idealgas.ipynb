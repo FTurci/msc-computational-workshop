{
 "cells": [
  {
   "cell_type": "markdown",
   "metadata": {},
   "source": [
    "# Kinetic theory of gases"
   ]
  },
  {
   "attachments": {},
   "cell_type": "markdown",
   "metadata": {},
   "source": [
    "At the foundations of statistical mechanics is the study of gases.\n",
    "\n",
    "In the *kinetic theory of gases*, gases are constituted of **particles**. They have the folowing properties:\n",
    "\n",
    "- the particles are much smaller than the volume occupied by the gas.\n",
    "- the partices have the same mass\n",
    "- the number of particles is large (>>1)\n",
    "- the particles collide elastically (no energy loss)\n",
    "\n",
    "Under such assumptions, it can be shown that the distribution of particle velocities obeys , at equilibrium, the **Maxwell-Bolltzmann** distribution\n",
    "$$\n",
    "p(v) d^3 v = \\left(\\dfrac{m}{2\\pi k_BT}\\right)^{3/2} \\exp\\left[\\dfrac{-mv^2}{2k_B T}\\right] d^3 v\n",
    "$$\n",
    "\n",
    "## Goal\n",
    "\n",
    "Our aim is to *simulate* a gas employing the physical assumptions above and **verify** that eventually the distribution of velocities converges to teh Maxwell-Bolltzmann distribution.\n",
    "\n",
    "\n",
    "To do so, we need to break down the problem into smaller components. We need to\n",
    "\n",
    "1. choose how to represent the particles.\n",
    "1. determine how to evolve positions and velocities.\n",
    "1. decide how to implement the collisions.\n",
    "1. choose how to confine the particles in a box.\n",
    "1. run the simulation and 'equilibrate' it.\n",
    "1. sample the velocity distribution and compare wih the theory.\n"
   ]
  },
  {
   "cell_type": "markdown",
   "metadata": {},
   "source": [
    "## Representing particles\n",
    "\n",
    "In molecular dynamics, we focus on the evolution particles positions $\\vec{r}$ and velocities $\\vec{v}$.\n",
    "\n",
    "Here we want to simulate a 2d gas of particles within a box od size $L$, where the particles are only subject to elastic collisions.\n",
    "\n",
    "Discuss in your group what characteristics define a particle. Think of a possible implementation that initialises positions and velocities.\n",
    "\n",
    "```\n",
    "    pseudocode\n",
    "\n",
    "```\n",
    "\n"
   ]
  },
  {
   "cell_type": "code",
   "execution_count": 3,
   "metadata": {},
   "outputs": [
    {
     "data": {
      "text/plain": [
       "array([[0.05059954, 0.26173074],\n",
       "       [0.36303003, 0.50268523],\n",
       "       [0.90985601, 0.78312761]])"
      ]
     },
     "execution_count": 3,
     "metadata": {},
     "output_type": "execute_result"
    }
   ],
   "source": [
    "import numpy as np\n",
    "\n",
    "rng = np.random.default_rng()\n",
    "\n",
    "\n",
    "rng.uniform(0,1, (3,2))"
   ]
  },
  {
   "cell_type": "code",
   "execution_count": 8,
   "metadata": {},
   "outputs": [
    {
     "name": "stdout",
     "output_type": "stream",
     "text": [
      "a\n",
      " [[0 0]\n",
      " [0 0]]\n",
      "b\n",
      " [[0 1]\n",
      " [0 2]]\n"
     ]
    }
   ],
   "source": [
    "a = np.array([[0,0],[0,0]])\n",
    "\n",
    "b = np.array([[0,1],[0,2]])\n",
    "print(\"a\\n\",a)\n",
    "print(\"b\\n\",b)"
   ]
  },
  {
   "cell_type": "code",
   "execution_count": 13,
   "metadata": {},
   "outputs": [
    {
     "data": {
      "text/plain": [
       "array([[ 0,  5],\n",
       "       [ 0, 10]])"
      ]
     },
     "execution_count": 13,
     "metadata": {},
     "output_type": "execute_result"
    }
   ],
   "source": [
    "dt=5\n",
    "b*dt+a"
   ]
  },
  {
   "cell_type": "markdown",
   "metadata": {},
   "source": [
    "### Plotting\n",
    "\n",
    "Plot the particles in 2d using `matplotlib`. Explore the animation possibilities based on the following example:"
   ]
  },
  {
   "cell_type": "code",
   "execution_count": 15,
   "metadata": {},
   "outputs": [],
   "source": [
    "%matplotlib qt\n",
    "import matplotlib.pyplot as plt\n",
    "from matplotlib import animation\n",
    "import numpy as np\n",
    "\n",
    "\n",
    "fig,ax= plt.subplots()\n",
    "N = 10\n",
    "\n",
    "x = np.arange(N)\n",
    "y = np.arange(N)\n",
    "pts, = ax.plot(x,y,'-o')\n",
    "plt.xlim(0,30)\n",
    "plt.ylim(0,30)\n",
    "\n",
    "def animate(i):\n",
    "    global y # we want to modify the values of the array **outside** the  function\n",
    "    y = y + 0.1\n",
    "    pts.set_data(x,y)\n",
    "\n",
    "    return pts\n",
    "anim = animation.FuncAnimation(fig, animate, interval=1)\n",
    "\n",
    "plt.show()"
   ]
  },
  {
   "cell_type": "markdown",
   "metadata": {},
   "source": [
    "## Equations of motion\n",
    "\n",
    "The gas particles are non-interacting, excepting during the collisions. \n",
    "\n",
    "This means that their motion is uniform between collisions.\n",
    "\n",
    "**Q1:** What does this imply for their velocity during the collisions?\n",
    "\n",
    "**Q2** Can you write down an equation for the position of a particle between collisions?"
   ]
  },
  {
   "cell_type": "markdown",
   "metadata": {},
   "source": [
    "**Exercise**\n",
    "\n",
    "Write dowan a function that evvolves the position `r` of a particle at given velocity `v` with time step `dt`.\n",
    "\n",
    "**Exercise**\n",
    "\n",
    "Using the function above, produce an animation of the motion of 10 particles."
   ]
  },
  {
   "cell_type": "markdown",
   "metadata": {},
   "source": [
    "## Elastic collisions"
   ]
  },
  {
   "cell_type": "markdown",
   "metadata": {},
   "source": [
    "Let us consider two identical spherical particles of mass $m$ and diameter $d$ colliding with velocities $v_1$ and $v_2$.\n",
    "\n",
    "The collisions are **elastic** which means that the total kinetic energy, the momentum and the angular momentum are **conserved**. \n",
    "\n",
    "$$\\frac{1}{2}mv_1^2+\\frac{1}{2}mv_2^2=\\frac{1}{2}m{v'}_1^2+\\frac{1}{2}m{v'}_2^2$$\n",
    "\n",
    "$$m\\vec{v}_1+m\\vec{v_2}= m\\vec{v'}_1+m\\vec{v'}_2$$\n",
    "where the $v'$  are the velocities after the collision. \n",
    "\n",
    "The collision occurs when the centres are at distance $|\\vec{r}_1-\\vec{r}_2| = d$.\n"
   ]
  },
  {
   "cell_type": "markdown",
   "metadata": {},
   "source": [
    "The impulse for each particle is\n",
    "\n",
    "\n",
    "$$\\vec{J}_1 =  \\vec{p}_1'-\\vec{p}_1 $$\n",
    "\n",
    "$$\\vec{J}_2 =  \\vec{p}_2'-\\vec{p}_2$$"
   ]
  },
  {
   "cell_type": "markdown",
   "metadata": {},
   "source": [
    "And conservation of momentum implies\n",
    "\n",
    "$$ \\vec{J}_1+\\vec{J}_2 = \\vec{p}_1'-\\vec{p}_1 +\\vec{p}_2'-\\vec{p}_2 =0$$"
   ]
  },
  {
   "cell_type": "markdown",
   "metadata": {},
   "source": [
    "The force at the collision point is along the radii of the two spheres, so the impulse is parallel to the vector $\\Delta \\vec{r}=\\vec{r}_1-\\vec{r}_2$. Call\n",
    "\n",
    "$$\\hat{n} = \\frac{\\vec{r}_1-\\vec{r}_2}{d}$$\n",
    "\n",
    "So $$\\vec{J}=\\vec{J_1}=-\\vec{J}_2 = \\lambda \\hat{n}$$\n",
    "\n",
    "with $\\lambda$ a scalar to be determined. From the definitions of the impulses we have\n",
    "\n",
    "$$\\vec{v}_1' = \\vec{v}_1+\\frac{\\lambda}{m_1}\\hat{n}$$\n",
    "$$\\vec{v}_2' = \\vec{v}_2+\\frac{\\lambda}{m_2}\\hat{n}$$\n",
    "\n",
    "We now impose the conservation of kinetic energy.\n",
    "\n",
    "**Show** that this means that \n",
    "\n",
    "$$ \\lambda^2 \\frac{m_1+m_2}{m_1 m_2}+2\\lambda \\hat{n}\\cdot{(\\vec{v_1}-\\vec{v}_2)}=0$$\n",
    "\n",
    "The only nontrivial solution is \n",
    "$$\\lambda = -2 \\frac{m_1 m_2}{m_1+m_2}\\hat{n}\\cdot{(\\vec{v_1}-\\vec{v}_2)}$$\n",
    "\n",
    "and the final result is \n",
    "\n",
    "\n",
    "$$\\vec{v}_1' = \\vec{v}_1-\\frac{2 m_2\\hat{n}\\cdot{(\\vec{v_1}-\\vec{v}_2)}}{m_1+m_2}\\hat{n}$$\n",
    "$$\\vec{v}_2' = \\vec{v}_2-\\frac{2 m_1\\hat{n}\\cdot{(\\vec{v_1}-\\vec{v}_2)}}{m_1+m_2}\\hat{n}$$"
   ]
  },
  {
   "cell_type": "markdown",
   "metadata": {},
   "source": [
    "**Exercise**\n",
    "\n",
    "Write a function `collision` that (given the positions and velocities of two particles), implements the collision rules derived above."
   ]
  },
  {
   "cell_type": "markdown",
   "metadata": {},
   "source": [
    "## Reflective boundaries\n",
    "\n",
    "We simulate a gas within a box, so we need to implement suitable rules for the collisons with teh box. The simplest are reflective boundary conditions.\n",
    "\n",
    "These imply that\n",
    "- if the new position of a particles crosses a boundary in the $i$ direction, the $i$-th component is reflected from the boundary (mirror symmetry)\n",
    "- if a collision occurs with the $i$-th boundary, the $i$-th component of the velocity is reversed.\n",
    "\n",
    "\n",
    "**Exercise**\n",
    "\n",
    "Write a simple function that implements the boundary collisions and test it."
   ]
  }
 ],
 "metadata": {
  "kernelspec": {
   "display_name": "Python 3 (ipykernel)",
   "language": "python",
   "name": "python3"
  },
  "language_info": {
   "codemirror_mode": {
    "name": "ipython",
    "version": 3
   },
   "file_extension": ".py",
   "mimetype": "text/x-python",
   "name": "python",
   "nbconvert_exporter": "python",
   "pygments_lexer": "ipython3",
   "version": "3.8.11"
  },
  "vscode": {
   "interpreter": {
    "hash": "3c18ced165a75a4b6e95ab1c45958bb7d8020e83337997b8e4623e704f279395"
   }
  }
 },
 "nbformat": 4,
 "nbformat_minor": 4
}
