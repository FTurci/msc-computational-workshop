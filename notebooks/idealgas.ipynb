{
 "cells": [
  {
   "cell_type": "markdown",
   "metadata": {},
   "source": [
    "# Kinetic theory of gases"
   ]
  },
  {
   "cell_type": "markdown",
   "metadata": {},
   "source": [
    "At the foundations of statistical mechanics is the study of gases.\n",
    "\n",
    "In the kinetic theory of gases, gases are constituted of **particles**. They have the folowing properties:\n",
    "\n",
    "- the particles are much smaller than the volume occupied by the gas.\n",
    "- the partices the same mass\n",
    "- the number of particles is large (>>1)\n",
    "- the particles collide elastically (no energy loss)\n",
    "\n",
    "Under such assumptions, it can be shown that the distribution of particle velocities obeys , at equilibriuum, the **Maxwell-Bolltzmann** distribution\n",
    "$$\n",
    "p(v)  = \\left(\\dfrac{m}{2\\pi k_BT}\\right)^{3/2} \\exp\\left[\\dfrac{-mv^2}{2k_B T}\\right]\n",
    "$$\n",
    "\n",
    "## Goal\n",
    "\n",
    "Our aim is to *simulate* a gas employing the physical assumptions above and **verify** that eventually the distribution fo velocities converges to teh Maxwell-Bolltzmann distribution.\n",
    "\n",
    "\n",
    "To do so, we need to break down the problem into smaller components. \n",
    "\n",
    "1. We need to choose how to represent the particles.\n",
    "1. We need to choose how to confine the particles in a box.\n",
    "1. We need to determine how to evolve positions and velocities.\n",
    "1. We need to decide how to implement the collisions.\n",
    "1. We need to run the simulation and 'equilibrate' it.\n",
    "1. We need to sample the velocity distribution and compare wih the theory.\n"
   ]
  },
  {
   "cell_type": "code",
   "execution_count": null,
   "metadata": {},
   "outputs": [],
   "source": []
  },
  {
   "cell_type": "markdown",
   "metadata": {},
   "source": []
  }
 ],
 "metadata": {
  "kernelspec": {
   "display_name": "Python 3.8.11 64-bit ('3.8.11')",
   "language": "python",
   "name": "python3"
  },
  "language_info": {
   "codemirror_mode": {
    "name": "ipython",
    "version": 3
   },
   "file_extension": ".py",
   "mimetype": "text/x-python",
   "name": "python",
   "nbconvert_exporter": "python",
   "pygments_lexer": "ipython3",
   "version": "3.8.11"
  },
  "orig_nbformat": 4,
  "vscode": {
   "interpreter": {
    "hash": "3c18ced165a75a4b6e95ab1c45958bb7d8020e83337997b8e4623e704f279395"
   }
  }
 },
 "nbformat": 4,
 "nbformat_minor": 2
}
