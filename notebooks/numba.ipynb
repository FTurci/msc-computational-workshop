{
 "cells": [
  {
   "cell_type": "markdown",
   "metadata": {},
   "source": [
    "# Crash course on `numba`\n",
    "\n",
    "\n",
    "`numpy` is the default option when trying to speed up a sicentific program. However, sometimes it may not be fast enough and a more low-level option may be needed.\n",
    "\n",
    "There are several options (`ctypes`, `pybind11`,`f2py`). Most of these require the knowledge of a second programming language (C, C++, Fortran or Julia). \n",
    "\n",
    "`numba` is different. It is a set of tools that - combined with numpy - can significantly speedup a program written in `python`. It relies on writing the code slightly differently and providing extra information on its structure.\n",
    "\n",
    "`numba` is installed via \n",
    "\n",
    "`conda install numba`\n",
    "\n",
    "or \n",
    "\n",
    "`pip install numba`"
   ]
  },
  {
   "cell_type": "markdown",
   "metadata": {},
   "source": [
    "## Minimal examples\n",
    "\n",
    "For our purposes, `numba` is exclusively a tool to **speed up** code, so we will focus on simple examples where, with limited effort, a spedup can be achieved. We will try to minimise tha mount of jargon needed and the number of options.\n",
    "\n",
    "We will focus on the manipulation of numpy arrays, as they are the most common data source in scientific computing.\n",
    "\n",
    "\n",
    "What `numba` does is to transform functions written in python into faster functions, pre-compiled in machine code. This is useful for\n",
    "\n",
    "- functions that are used often throughout a code\n",
    "- functions that rely on multiple loops \n",
    "\n"
   ]
  },
  {
   "cell_type": "markdown",
   "metadata": {},
   "source": [
    "Let' start with a simle function. It performs a periodic boundary check on a vector within a [0,L] box.\n"
   ]
  },
  {
   "cell_type": "code",
   "execution_count": 29,
   "metadata": {},
   "outputs": [],
   "source": [
    "\n",
    "def pbc(r,L):\n",
    "    for i in range(r.shape[0]):\n",
    "        for k in range(r.shape[1]):\n",
    "            if r[i,k] <0:\n",
    "                r[i,k]+= L\n",
    "            elif r[i,k]>L:\n",
    "                r[i,k]-=L\n",
    "\n",
    "    "
   ]
  },
  {
   "cell_type": "code",
   "execution_count": 80,
   "metadata": {},
   "outputs": [
    {
     "name": "stdout",
     "output_type": "stream",
     "text": [
      "Elapsed 0.023220300674438477\n"
     ]
    }
   ],
   "source": [
    "import numpy as np\n",
    "from time import time\n",
    "L = 10.0\n",
    "eps = 0.5\n",
    "N = 10000\n",
    "np.random.seed(1)\n",
    "r = np.random.uniform(0,L+eps,(N,2))\n",
    "\n",
    "start = time()\n",
    "pbc(r,L)\n",
    "end = time()\n",
    "print(\"Elapsed\",end-start)\n"
   ]
  },
  {
   "cell_type": "markdown",
   "metadata": {},
   "source": []
  },
  {
   "cell_type": "code",
   "execution_count": 110,
   "metadata": {},
   "outputs": [],
   "source": [
    "import numba as nb\n",
    "#no-python jit with signature, specifying the types as defined within Numba:\n",
    "# result_type(argument1_type, argument2_type)\n",
    "@nb.njit( nb.void(nb.double[:,:], nb.double),nogil=True) \n",
    "def nb_pbc(r,L):\n",
    "    for i in range(r.shape[0]):\n",
    "        for k in range(r.shape[1]):\n",
    "            if r[i,k] <0:\n",
    "                r[i,k]+= L\n",
    "            elif r[i,k]>L:\n",
    "                r[i,k]-=L"
   ]
  },
  {
   "cell_type": "code",
   "execution_count": 114,
   "metadata": {},
   "outputs": [
    {
     "name": "stdout",
     "output_type": "stream",
     "text": [
      "Elapsed 0.0005142688751220703\n"
     ]
    }
   ],
   "source": [
    "np.random.seed(1)\n",
    "r = np.random.uniform(0,L+eps,(N,2))\n",
    "start = time()\n",
    "nb_pbc(r,L)\n",
    "end = time()\n",
    "print(\"Elapsed\",end-start)"
   ]
  },
  {
   "cell_type": "markdown",
   "metadata": {},
   "source": [
    "Let's compare with `numpy`"
   ]
  },
  {
   "cell_type": "code",
   "execution_count": 104,
   "metadata": {},
   "outputs": [
    {
     "name": "stdout",
     "output_type": "stream",
     "text": [
      "Elapsed 0.0021309852600097656\n"
     ]
    }
   ],
   "source": [
    "np.random.seed(1)\n",
    "r = np.random.uniform(0,L+eps,(N,2))\n",
    "\n",
    "start = time()\n",
    "r[r<0]+=L\n",
    "r[r>L]-=L\n",
    "end = time()\n",
    "print(\"Elapsed\",end-start)"
   ]
  },
  {
   "cell_type": "markdown",
   "metadata": {},
   "source": [
    "**Exercise**\n",
    "\n",
    "Use numba to speed up the function you wrote to deal with interparticle collisions."
   ]
  },
  {
   "cell_type": "markdown",
   "metadata": {},
   "source": []
  }
 ],
 "metadata": {
  "kernelspec": {
   "display_name": "Python 3.8.11 64-bit ('3.8.11')",
   "language": "python",
   "name": "python3"
  },
  "language_info": {
   "codemirror_mode": {
    "name": "ipython",
    "version": 3
   },
   "file_extension": ".py",
   "mimetype": "text/x-python",
   "name": "python",
   "nbconvert_exporter": "python",
   "pygments_lexer": "ipython3",
   "version": "3.8.11"
  },
  "orig_nbformat": 4,
  "vscode": {
   "interpreter": {
    "hash": "3c18ced165a75a4b6e95ab1c45958bb7d8020e83337997b8e4623e704f279395"
   }
  }
 },
 "nbformat": 4,
 "nbformat_minor": 2
}
