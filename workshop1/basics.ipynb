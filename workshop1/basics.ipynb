{
 "cells": [
  {
   "cell_type": "markdown",
   "metadata": {},
   "source": [
    "# MSC Computational Wokshop - Goals"
   ]
  },
  {
   "cell_type": "markdown",
   "metadata": {},
   "source": [
    "In this workshop we are going to write elementary molecular simulations to explore the statistical mechanics of many-particle systems.\n",
    "\n",
    "We are going to use `Python` and exploit all the advantages of dedicated scientific computing libraries. Specifically:\n",
    "- `numpy` , https://numpy.org/\n",
    "- `scipy` , https://scipy.org/\n",
    "- `numba`, https://numba.pydata.org/\n",
    "- `matplotlib`, https://matplotlib.org/\n",
    "\n",
    "The advanced goal will be to construct a small web-application. For this purpose - time permitting - we will employ `Bokeh` , https://bokeh.org/  that we will eventually dploy (for example on `Render` https://render.com or `Heroku` https://heroku.com ).\n",
    "\n",
    "An example application can be found here https://kinetic-gas.onrender.com/\n",
    "\n"
   ]
  },
  {
   "cell_type": "markdown",
   "metadata": {},
   "source": [
    "## Basics\n",
    "\n",
    "Before starting coding, let us revisit some background."
   ]
  },
  {
   "cell_type": "markdown",
   "metadata": {},
   "source": [
    "### Numpy\n",
    "\n",
    "Numpy is *the* key numerical library in Python. It is centered on array manipulation, which it does much more efficiently than pure Python.\n",
    "\n",
    "Let's show this with an example. We use the `time` library to benchmark our code."
   ]
  },
  {
   "cell_type": "code",
   "execution_count": 4,
   "metadata": {},
   "outputs": [],
   "source": [
    "import time"
   ]
  },
  {
   "cell_type": "code",
   "execution_count": 5,
   "metadata": {},
   "outputs": [
    {
     "name": "stdout",
     "output_type": "stream",
     "text": [
      "499999500000\n",
      "pure Python, total time in seconds 0.13213276863098145\n"
     ]
    }
   ],
   "source": [
    "start = time.time()\n",
    "\n",
    "# pure python sum over the first 1 000 000 integers\n",
    "\n",
    "s = 0\n",
    "for i in range(1_000_000):\n",
    "    s+=i\n",
    "\n",
    "print(s)\n",
    "end = time.time()\n",
    "pure_time = end-start\n",
    "print(\"pure Python, total time in seconds\", pure_time)"
   ]
  },
  {
   "cell_type": "markdown",
   "metadata": {},
   "source": [
    "We import `numpy` like this"
   ]
  },
  {
   "cell_type": "code",
   "execution_count": 6,
   "metadata": {},
   "outputs": [],
   "source": [
    "import numpy as np"
   ]
  },
  {
   "cell_type": "markdown",
   "metadata": {},
   "source": [
    "and generate an `array` of integers and sum over it like this"
   ]
  },
  {
   "cell_type": "code",
   "execution_count": 7,
   "metadata": {},
   "outputs": [
    {
     "name": "stdout",
     "output_type": "stream",
     "text": [
      "Python+numpy, total time in seconds 0.0064656734466552734\n"
     ]
    }
   ],
   "source": [
    "start = time.time()\n",
    "integers = np.arange(1000000).sum()\n",
    "end = time.time()\n",
    "numpy_time = end-start\n",
    "print(\"Python+numpy, total time in seconds\", numpy_time)"
   ]
  },
  {
   "cell_type": "markdown",
   "metadata": {},
   "source": [
    "The corresponding speedup is rather significant:"
   ]
  },
  {
   "cell_type": "code",
   "execution_count": 8,
   "metadata": {},
   "outputs": [
    {
     "data": {
      "text/plain": [
       "20.43604115195988"
      ]
     },
     "execution_count": 8,
     "metadata": {},
     "output_type": "execute_result"
    }
   ],
   "source": [
    "pure_time/numpy_time"
   ]
  },
  {
   "cell_type": "markdown",
   "metadata": {},
   "source": [
    "&rarr; **USE NUMPY!**"
   ]
  },
  {
   "cell_type": "markdown",
   "metadata": {},
   "source": [
    "#### Key concepts"
   ]
  },
  {
   "cell_type": "markdown",
   "metadata": {},
   "source": [
    "##### Generating arrays"
   ]
  },
  {
   "cell_type": "code",
   "execution_count": 9,
   "metadata": {},
   "outputs": [],
   "source": [
    "minimum = -20.0\n",
    "maximum = 30.0\n",
    "\n",
    "#known step\n",
    "step = 0.01\n",
    "array_with_known_step = np.arange(minimum, maximum,step)\n",
    "#known number of points\n",
    "n = 10\n",
    "array_with_known_n = np.linspace(minimum, maximum,n)"
   ]
  },
  {
   "cell_type": "code",
   "execution_count": 10,
   "metadata": {},
   "outputs": [
    {
     "data": {
      "text/plain": [
       "array([-20.  , -19.99, -19.98, ...,  29.97,  29.98,  29.99])"
      ]
     },
     "execution_count": 10,
     "metadata": {},
     "output_type": "execute_result"
    }
   ],
   "source": [
    "array_with_known_step"
   ]
  },
  {
   "cell_type": "code",
   "execution_count": 11,
   "metadata": {},
   "outputs": [
    {
     "data": {
      "text/plain": [
       "array([-20.        , -14.44444444,  -8.88888889,  -3.33333333,\n",
       "         2.22222222,   7.77777778,  13.33333333,  18.88888889,\n",
       "        24.44444444,  30.        ])"
      ]
     },
     "execution_count": 11,
     "metadata": {},
     "output_type": "execute_result"
    }
   ],
   "source": [
    "array_with_known_n"
   ]
  },
  {
   "cell_type": "markdown",
   "metadata": {},
   "source": [
    "##### Sizing and resizing"
   ]
  },
  {
   "cell_type": "code",
   "execution_count": 12,
   "metadata": {},
   "outputs": [
    {
     "data": {
      "text/plain": [
       "10"
      ]
     },
     "execution_count": 12,
     "metadata": {},
     "output_type": "execute_result"
    }
   ],
   "source": [
    "array_with_known_n.size"
   ]
  },
  {
   "cell_type": "code",
   "execution_count": 13,
   "metadata": {},
   "outputs": [
    {
     "data": {
      "text/plain": [
       "(5000,)"
      ]
     },
     "execution_count": 13,
     "metadata": {},
     "output_type": "execute_result"
    }
   ],
   "source": [
    "array_with_known_step.shape"
   ]
  },
  {
   "cell_type": "code",
   "execution_count": 14,
   "metadata": {},
   "outputs": [
    {
     "name": "stdout",
     "output_type": "stream",
     "text": [
      "[[-20.         -14.44444444]\n",
      " [ -8.88888889  -3.33333333]\n",
      " [  2.22222222   7.77777778]\n",
      " [ 13.33333333  18.88888889]\n",
      " [ 24.44444444  30.        ]]\n"
     ]
    }
   ],
   "source": [
    "reshaped = array_with_known_n.reshape((int(n/2),2))\n",
    "print(reshaped)"
   ]
  },
  {
   "cell_type": "code",
   "execution_count": 15,
   "metadata": {},
   "outputs": [
    {
     "data": {
      "text/plain": [
       "(5, 2)"
      ]
     },
     "execution_count": 15,
     "metadata": {},
     "output_type": "execute_result"
    }
   ],
   "source": [
    "reshaped.shape"
   ]
  },
  {
   "cell_type": "markdown",
   "metadata": {},
   "source": [
    "##### Slicing"
   ]
  },
  {
   "cell_type": "code",
   "execution_count": 16,
   "metadata": {},
   "outputs": [
    {
     "data": {
      "text/plain": [
       "array([-20.        ,  -8.88888889,   2.22222222,  13.33333333,\n",
       "        24.44444444])"
      ]
     },
     "execution_count": 16,
     "metadata": {},
     "output_type": "execute_result"
    }
   ],
   "source": [
    "# selecting the first column\n",
    "reshaped[:,0]"
   ]
  },
  {
   "cell_type": "code",
   "execution_count": 17,
   "metadata": {},
   "outputs": [
    {
     "data": {
      "text/plain": [
       "array([24.44444444, 30.        ])"
      ]
     },
     "execution_count": 17,
     "metadata": {},
     "output_type": "execute_result"
    }
   ],
   "source": [
    "# selectign  the last row \n",
    "reshaped[-1,:]"
   ]
  },
  {
   "cell_type": "code",
   "execution_count": 18,
   "metadata": {},
   "outputs": [
    {
     "data": {
      "text/plain": [
       "array([[-20.        , -14.44444444],\n",
       "       [  2.22222222,   7.77777778],\n",
       "       [ 24.44444444,  30.        ]])"
      ]
     },
     "execution_count": 18,
     "metadata": {},
     "output_type": "execute_result"
    }
   ],
   "source": [
    "# selecting even rows\n",
    "reshaped[::2,:]"
   ]
  },
  {
   "cell_type": "code",
   "execution_count": 19,
   "metadata": {},
   "outputs": [
    {
     "data": {
      "text/plain": [
       "array([[-14.44444444, -20.        ],\n",
       "       [ -3.33333333,  -8.88888889],\n",
       "       [  7.77777778,   2.22222222],\n",
       "       [ 18.88888889,  13.33333333],\n",
       "       [ 30.        ,  24.44444444]])"
      ]
     },
     "execution_count": 19,
     "metadata": {},
     "output_type": "execute_result"
    }
   ],
   "source": [
    "# reversing the order of the columns\n",
    "reshaped[:,::-1]"
   ]
  },
  {
   "cell_type": "markdown",
   "metadata": {},
   "source": [
    "##### Random numbers\n",
    "\n",
    "To generate random numbers, you need a `generator`. This is an object capable of producing random numbers from a variety of different distributions."
   ]
  },
  {
   "cell_type": "code",
   "execution_count": 20,
   "metadata": {},
   "outputs": [],
   "source": [
    "rng = np.random.default_rng()"
   ]
  },
  {
   "cell_type": "code",
   "execution_count": 21,
   "metadata": {},
   "outputs": [],
   "source": [
    "uniform_array = rng.uniform(-1,1,10000)\n",
    "normal_array = rng.normal(1,2, 10000)\n",
    "exponential_array = rng.exponential(2.0,10000)\n",
    "\n",
    "samples = [uniform_array, normal_array, exponential_array]\n"
   ]
  },
  {
   "cell_type": "markdown",
   "metadata": {},
   "source": [
    "Let's use `matplotlib` to plot the distributions."
   ]
  },
  {
   "cell_type": "code",
   "execution_count": 22,
   "metadata": {},
   "outputs": [
    {
     "data": {
      "image/png": "[encoded data removed]",
      "text/plain": [
       "<Figure size 432x288 with 1 Axes>"
      ]
     },
     "metadata": {
      "needs_background": "light"
     },
     "output_type": "display_data"
    }
   ],
   "source": [
    "import matplotlib.pyplot as plt\n",
    "\n",
    "for sample in samples:\n",
    "    plt.hist(sample, bins = 8, density=True)"
   ]
  },
  {
   "cell_type": "markdown",
   "metadata": {},
   "source": [
    "**Exercise 1**\n",
    "\n",
    "Improve the rendering of the plot above using an array for the `bins` parameter."
   ]
  },
  {
   "cell_type": "markdown",
   "metadata": {},
   "source": [
    "**Exercise 2**\n",
    "\n",
    "Explore the methods of the sample arrays to calculate their statistical properties, e.g. mean, standard deviation, variance etc."
   ]
  },
  {
   "cell_type": "markdown",
   "metadata": {},
   "source": [
    "**Exercise 3**\n",
    "Select only positive entries from the array `uniform_array`."
   ]
  },
  {
   "cell_type": "code",
   "execution_count": null,
   "metadata": {},
   "outputs": [],
   "source": []
  }
 ],
 "metadata": {
  "kernelspec": {
   "display_name": "Python 3 (ipykernel)",
   "language": "python",
   "name": "python3"
  },
  "language_info": {
   "codemirror_mode": {
    "name": "ipython",
    "version": 3
   },
   "file_extension": ".py",
   "mimetype": "text/x-python",
   "name": "python",
   "nbconvert_exporter": "python",
   "pygments_lexer": "ipython3",
   "version": "3.8.11"
  },
  "vscode": {
   "interpreter": {
    "hash": "3c18ced165a75a4b6e95ab1c45958bb7d8020e83337997b8e4623e704f279395"
   }
  }
 },
 "nbformat": 4,
 "nbformat_minor": 2
}
